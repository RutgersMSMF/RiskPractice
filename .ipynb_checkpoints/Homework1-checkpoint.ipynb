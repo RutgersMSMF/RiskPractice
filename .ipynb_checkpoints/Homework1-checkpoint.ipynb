{
 "cells": [
  {
   "cell_type": "code",
   "execution_count": 7,
   "id": "fe90f5d9",
   "metadata": {},
   "outputs": [],
   "source": [
    "import numpy as np\n",
    "import yfinance as yf\n",
    "import matplotlib.pyplot as plt\n",
    "from datetime import date, datetime"
   ]
  },
  {
   "cell_type": "code",
   "execution_count": 5,
   "id": "4df1297e",
   "metadata": {},
   "outputs": [
    {
     "data": {
      "text/html": [
       "<div>\n",
       "<style scoped>\n",
       "    .dataframe tbody tr th:only-of-type {\n",
       "        vertical-align: middle;\n",
       "    }\n",
       "\n",
       "    .dataframe tbody tr th {\n",
       "        vertical-align: top;\n",
       "    }\n",
       "\n",
       "    .dataframe thead th {\n",
       "        text-align: right;\n",
       "    }\n",
       "</style>\n",
       "<table border=\"1\" class=\"dataframe\">\n",
       "  <thead>\n",
       "    <tr style=\"text-align: right;\">\n",
       "      <th></th>\n",
       "      <th>Open</th>\n",
       "      <th>High</th>\n",
       "      <th>Low</th>\n",
       "      <th>Close</th>\n",
       "      <th>Volume</th>\n",
       "    </tr>\n",
       "    <tr>\n",
       "      <th>Date</th>\n",
       "      <th></th>\n",
       "      <th></th>\n",
       "      <th></th>\n",
       "      <th></th>\n",
       "      <th></th>\n",
       "    </tr>\n",
       "  </thead>\n",
       "  <tbody>\n",
       "    <tr>\n",
       "      <th>2020-01-02</th>\n",
       "      <td>43.738123</td>\n",
       "      <td>44.065746</td>\n",
       "      <td>43.574309</td>\n",
       "      <td>44.065746</td>\n",
       "      <td>16708100</td>\n",
       "    </tr>\n",
       "    <tr>\n",
       "      <th>2020-01-03</th>\n",
       "      <td>43.601606</td>\n",
       "      <td>43.810922</td>\n",
       "      <td>43.210274</td>\n",
       "      <td>43.346786</td>\n",
       "      <td>15577400</td>\n",
       "    </tr>\n",
       "    <tr>\n",
       "      <th>2020-01-06</th>\n",
       "      <td>42.900855</td>\n",
       "      <td>43.519705</td>\n",
       "      <td>42.782544</td>\n",
       "      <td>43.501503</td>\n",
       "      <td>22183600</td>\n",
       "    </tr>\n",
       "    <tr>\n",
       "      <th>2020-01-07</th>\n",
       "      <td>43.428704</td>\n",
       "      <td>43.428704</td>\n",
       "      <td>42.864456</td>\n",
       "      <td>43.219387</td>\n",
       "      <td>16501900</td>\n",
       "    </tr>\n",
       "    <tr>\n",
       "      <th>2020-01-08</th>\n",
       "      <td>42.746145</td>\n",
       "      <td>43.492405</td>\n",
       "      <td>42.600534</td>\n",
       "      <td>43.246685</td>\n",
       "      <td>25175900</td>\n",
       "    </tr>\n",
       "  </tbody>\n",
       "</table>\n",
       "</div>"
      ],
      "text/plain": [
       "                 Open       High        Low      Close    Volume\n",
       "Date                                                            \n",
       "2020-01-02  43.738123  44.065746  43.574309  44.065746  16708100\n",
       "2020-01-03  43.601606  43.810922  43.210274  43.346786  15577400\n",
       "2020-01-06  42.900855  43.519705  42.782544  43.501503  22183600\n",
       "2020-01-07  43.428704  43.428704  42.864456  43.219387  16501900\n",
       "2020-01-08  42.746145  43.492405  42.600534  43.246685  25175900"
      ]
     },
     "execution_count": 5,
     "metadata": {},
     "output_type": "execute_result"
    }
   ],
   "source": [
    "ticker = \"CSCO\"\n",
    "today = date.today()\n",
    "\n",
    "csco_prices = yf.download(ticker, \n",
    "                   start='2020-01-01', \n",
    "                   end=today, \n",
    "                   progress=False, auto_adjust=True)\n",
    "\n",
    "csco_prices.head()"
   ]
  },
  {
   "cell_type": "code",
   "execution_count": 6,
   "id": "b2471308",
   "metadata": {},
   "outputs": [
    {
     "data": {
      "text/html": [
       "<div>\n",
       "<style scoped>\n",
       "    .dataframe tbody tr th:only-of-type {\n",
       "        vertical-align: middle;\n",
       "    }\n",
       "\n",
       "    .dataframe tbody tr th {\n",
       "        vertical-align: top;\n",
       "    }\n",
       "\n",
       "    .dataframe thead th {\n",
       "        text-align: right;\n",
       "    }\n",
       "</style>\n",
       "<table border=\"1\" class=\"dataframe\">\n",
       "  <thead>\n",
       "    <tr style=\"text-align: right;\">\n",
       "      <th></th>\n",
       "      <th>Open</th>\n",
       "      <th>High</th>\n",
       "      <th>Low</th>\n",
       "      <th>Close</th>\n",
       "      <th>Volume</th>\n",
       "    </tr>\n",
       "    <tr>\n",
       "      <th>Date</th>\n",
       "      <th></th>\n",
       "      <th></th>\n",
       "      <th></th>\n",
       "      <th></th>\n",
       "      <th></th>\n",
       "    </tr>\n",
       "  </thead>\n",
       "  <tbody>\n",
       "    <tr>\n",
       "      <th>2020-01-02</th>\n",
       "      <td>128.144047</td>\n",
       "      <td>128.349049</td>\n",
       "      <td>126.858129</td>\n",
       "      <td>128.134720</td>\n",
       "      <td>1117300</td>\n",
       "    </tr>\n",
       "    <tr>\n",
       "      <th>2020-01-03</th>\n",
       "      <td>127.240159</td>\n",
       "      <td>128.004245</td>\n",
       "      <td>127.053797</td>\n",
       "      <td>127.678116</td>\n",
       "      <td>927300</td>\n",
       "    </tr>\n",
       "    <tr>\n",
       "      <th>2020-01-06</th>\n",
       "      <td>126.867448</td>\n",
       "      <td>127.855190</td>\n",
       "      <td>126.392224</td>\n",
       "      <td>127.817909</td>\n",
       "      <td>952800</td>\n",
       "    </tr>\n",
       "    <tr>\n",
       "      <th>2020-01-07</th>\n",
       "      <td>126.625164</td>\n",
       "      <td>127.314717</td>\n",
       "      <td>125.889032</td>\n",
       "      <td>125.944939</td>\n",
       "      <td>1204600</td>\n",
       "    </tr>\n",
       "    <tr>\n",
       "      <th>2020-01-08</th>\n",
       "      <td>126.671740</td>\n",
       "      <td>128.311740</td>\n",
       "      <td>126.252424</td>\n",
       "      <td>127.296059</td>\n",
       "      <td>1942800</td>\n",
       "    </tr>\n",
       "  </tbody>\n",
       "</table>\n",
       "</div>"
      ],
      "text/plain": [
       "                  Open        High         Low       Close   Volume\n",
       "Date                                                               \n",
       "2020-01-02  128.144047  128.349049  126.858129  128.134720  1117300\n",
       "2020-01-03  127.240159  128.004245  127.053797  127.678116   927300\n",
       "2020-01-06  126.867448  127.855190  126.392224  127.817909   952800\n",
       "2020-01-07  126.625164  127.314717  125.889032  125.944939  1204600\n",
       "2020-01-08  126.671740  128.311740  126.252424  127.296059  1942800"
      ]
     },
     "execution_count": 6,
     "metadata": {},
     "output_type": "execute_result"
    }
   ],
   "source": [
    "ticker = \"TRV\"\n",
    "today = date.today()\n",
    "\n",
    "trv_prices = yf.download(ticker, \n",
    "                   start='2020-01-01', \n",
    "                   end=today, \n",
    "                   progress=False, auto_adjust=True)\n",
    "\n",
    "trv_prices.head()"
   ]
  },
  {
   "cell_type": "code",
   "execution_count": 14,
   "id": "35e7b3ce",
   "metadata": {},
   "outputs": [],
   "source": [
    "L = len(csco_prices[\"Close\"])\n",
    "trv_returns = np.zeros(L - 1)\n",
    "csco_returns = np.zeros(L - 1)\n",
    "\n",
    "for i in range(L - 1):\n",
    "    trv_returns[i] = np.log(trv_prices[\"Close\"][i + 1] / trv_prices[\"Close\"][i]) * 100\n",
    "    csco_returns[i] = np.log(csco_prices[\"Close\"][i + 1] / csco_prices[\"Close\"][i]) * 100"
   ]
  },
  {
   "cell_type": "code",
   "execution_count": 15,
   "id": "406d2b52",
   "metadata": {},
   "outputs": [
    {
     "name": "stdout",
     "output_type": "stream",
     "text": [
      "0.05159910035038647\n",
      "0.011037807386675536\n"
     ]
    }
   ],
   "source": [
    "trv_mean = np.mean(trv_returns)\n",
    "csco_mean = np.mean(csco_returns)\n",
    "\n",
    "print(trv_mean)\n",
    "print(csco_mean)"
   ]
  },
  {
   "cell_type": "code",
   "execution_count": 16,
   "id": "e00ed93d",
   "metadata": {},
   "outputs": [
    {
     "name": "stdout",
     "output_type": "stream",
     "text": [
      "2.135407031921472\n",
      "1.9843509954291867\n"
     ]
    }
   ],
   "source": [
    "trv_std = np.std(trv_returns)\n",
    "csco_std = np.std(csco_returns)\n",
    "\n",
    "print(trv_std)\n",
    "print(csco_std)"
   ]
  },
  {
   "cell_type": "code",
   "execution_count": 17,
   "id": "652157e6",
   "metadata": {},
   "outputs": [],
   "source": [
    "mean = np.array([trv_mean, csco_mean])\n",
    "std = np.array([trv_std, csco_std])"
   ]
  },
  {
   "cell_type": "code",
   "execution_count": 18,
   "id": "45b995ed",
   "metadata": {},
   "outputs": [
    {
     "data": {
      "text/plain": [
       "<matplotlib.collections.PathCollection at 0x207ff4f3e80>"
      ]
     },
     "execution_count": 18,
     "metadata": {},
     "output_type": "execute_result"
    },
    {
     "data": {
      "image/png": "[encoded data removed]",
      "text/plain": [
       "<Figure size 640x480 with 1 Axes>"
      ]
     },
     "metadata": {},
     "output_type": "display_data"
    }
   ],
   "source": [
    "plt.scatter(std, mean)"
   ]
  },
  {
   "cell_type": "code",
   "execution_count": 22,
   "id": "b1359535",
   "metadata": {},
   "outputs": [],
   "source": [
    "# Weighted Returns \n",
    "N = 1000\n",
    "w = np.linspace(0, 1, N)\n",
    "\n",
    "optimal_mean = np.zeros(N)\n",
    "optimal_std = np.zeros(N)\n",
    "\n",
    "for i in range(N):\n",
    "    \n",
    "    weighted_returns = np.zeros(len(trv_returns))\n",
    "    \n",
    "    for j in range(len(trv_returns)):\n",
    "        \n",
    "        weighted_returns[j] = w[i] * trv_returns[j] + (1 - w[i]) * csco_returns[j]\n",
    "        \n",
    "    optimal_mean[i] = np.mean(weighted_returns)\n",
    "    optimal_std[i] = np.std(weighted_returns)"
   ]
  },
  {
   "cell_type": "code",
   "execution_count": 26,
   "id": "ad543ec9",
   "metadata": {},
   "outputs": [
    {
     "data": {
      "text/plain": [
       "<matplotlib.collections.PathCollection at 0x20783d46ce0>"
      ]
     },
     "execution_count": 26,
     "metadata": {},
     "output_type": "execute_result"
    },
    {
     "data": {
      "image/png": "[encoded data removed]",
      "text/plain": [
       "<Figure size 640x480 with 1 Axes>"
      ]
     },
     "metadata": {},
     "output_type": "display_data"
    }
   ],
   "source": [
    "plt.plot(optimal_std, optimal_mean)\n",
    "plt.scatter(std, mean)"
   ]
  },
  {
   "cell_type": "code",
   "execution_count": null,
   "id": "da2b7cbd",
   "metadata": {},
   "outputs": [],
   "source": []
  }
 ],
 "metadata": {
  "kernelspec": {
   "display_name": "Python 3 (ipykernel)",
   "language": "python",
   "name": "python3"
  },
  "language_info": {
   "codemirror_mode": {
    "name": "ipython",
    "version": 3
   },
   "file_extension": ".py",
   "mimetype": "text/x-python",
   "name": "python",
   "nbconvert_exporter": "python",
   "pygments_lexer": "ipython3",
   "version": "3.10.7"
  }
 },
 "nbformat": 4,
 "nbformat_minor": 5
}
