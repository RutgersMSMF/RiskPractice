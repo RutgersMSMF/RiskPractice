{
 "cells": [
  {
   "cell_type": "code",
   "execution_count": 1,
   "id": "8b396133",
   "metadata": {},
   "outputs": [],
   "source": [
    "import math\n",
    "import numpy as np\n",
    "import pandas as pd\n",
    "from scipy.stats import norm"
   ]
  },
  {
   "cell_type": "markdown",
   "id": "722af33d",
   "metadata": {},
   "source": [
    "## Portfolio Variance"
   ]
  },
  {
   "cell_type": "code",
   "execution_count": 2,
   "id": "d7fae5fe",
   "metadata": {},
   "outputs": [
    {
     "data": {
      "text/plain": [
       "array([[ 1. , -0.6, -0.6],\n",
       "       [-0.6,  1. , -0.6],\n",
       "       [-0.6, -0.6,  1. ]])"
      ]
     },
     "execution_count": 2,
     "metadata": {},
     "output_type": "execute_result"
    }
   ],
   "source": [
    "fake_corr = np.array([[1.0, -0.6, -0.6], [-0.6, 1.0, -0.6], [-0.6, -0.6, 1.0]])\n",
    "fake_corr"
   ]
  },
  {
   "cell_type": "code",
   "execution_count": 53,
   "id": "9c11c3fd",
   "metadata": {},
   "outputs": [],
   "source": [
    "sd = np.array([1, 1, 1])"
   ]
  },
  {
   "cell_type": "code",
   "execution_count": 54,
   "id": "e75ce462",
   "metadata": {},
   "outputs": [
    {
     "data": {
      "text/plain": [
       "array([[ 1. , -0.6, -0.6],\n",
       "       [-0.6,  1. , -0.6],\n",
       "       [-0.6, -0.6,  1. ]])"
      ]
     },
     "execution_count": 54,
     "metadata": {},
     "output_type": "execute_result"
    }
   ],
   "source": [
    "sd * fake_corr * sd.T"
   ]
  },
  {
   "cell_type": "code",
   "execution_count": 57,
   "id": "dac05f1a",
   "metadata": {},
   "outputs": [],
   "source": [
    "weights = np.array([0.0, 0.5, 0.5])"
   ]
  },
  {
   "cell_type": "code",
   "execution_count": 58,
   "id": "43b142f9",
   "metadata": {},
   "outputs": [
    {
     "data": {
      "text/plain": [
       "array([[0.   , 0.   , 0.   ],\n",
       "       [0.   , 0.125, 0.   ],\n",
       "       [0.   , 0.   , 0.125]])"
      ]
     },
     "execution_count": 58,
     "metadata": {},
     "output_type": "execute_result"
    }
   ],
   "source": [
    "weights * D"
   ]
  },
  {
   "cell_type": "markdown",
   "id": "bc075125",
   "metadata": {},
   "source": [
    "## Value at Risk"
   ]
  },
  {
   "cell_type": "code",
   "execution_count": 3,
   "id": "f4155f34",
   "metadata": {},
   "outputs": [
    {
     "data": {
      "text/plain": [
       "-10.891136958200777"
      ]
     },
     "execution_count": 3,
     "metadata": {},
     "output_type": "execute_result"
    }
   ],
   "source": [
    "capital = 100\n",
    "vol = 0.20\n",
    "p = 0.99\n",
    "\n",
    "VaR = capital * vol * np.sqrt(20 / 365) * norm.ppf(1-p)\n",
    "VaR"
   ]
  },
  {
   "cell_type": "markdown",
   "id": "fa82d859",
   "metadata": {},
   "source": [
    "## Modified Duration (Zero Coupon Bond)"
   ]
  },
  {
   "cell_type": "code",
   "execution_count": 11,
   "id": "13723222",
   "metadata": {},
   "outputs": [],
   "source": [
    "bond_price = 1000\n",
    "bond_yield = 0.03"
   ]
  },
  {
   "cell_type": "code",
   "execution_count": 13,
   "id": "30084a69",
   "metadata": {},
   "outputs": [
    {
     "data": {
      "text/plain": [
       "4.303539882125289"
      ]
     },
     "execution_count": 13,
     "metadata": {},
     "output_type": "execute_result"
    }
   ],
   "source": [
    "duration = 5 * (np.exp(-0.03 * 5))\n",
    "duration"
   ]
  },
  {
   "cell_type": "code",
   "execution_count": 14,
   "id": "3a65fa20",
   "metadata": {},
   "outputs": [
    {
     "data": {
      "text/plain": [
       "4.093653765389909"
      ]
     },
     "execution_count": 14,
     "metadata": {},
     "output_type": "execute_result"
    }
   ],
   "source": [
    "modified_duration = 5 * (np.exp(-0.04 * 5))\n",
    "modified_duration"
   ]
  },
  {
   "cell_type": "code",
   "execution_count": 15,
   "id": "694aa437",
   "metadata": {},
   "outputs": [
    {
     "data": {
      "text/plain": [
       "4.524187090179797"
      ]
     },
     "execution_count": 15,
     "metadata": {},
     "output_type": "execute_result"
    }
   ],
   "source": [
    "modified_duration = 5 * (np.exp(-0.02 * 5))\n",
    "modified_duration"
   ]
  },
  {
   "cell_type": "code",
   "execution_count": 16,
   "id": "cf5a37a4",
   "metadata": {},
   "outputs": [
    {
     "data": {
      "text/plain": [
       "4.089564201188721"
      ]
     },
     "execution_count": 16,
     "metadata": {},
     "output_type": "execute_result"
    }
   ],
   "source": [
    "dollar_duration = 5 * (1000 * np.exp(-0.04 * 5) / 1001)\n",
    "dollar_duration"
   ]
  },
  {
   "cell_type": "code",
   "execution_count": 17,
   "id": "cc12c46f",
   "metadata": {},
   "outputs": [
    {
     "data": {
      "text/plain": [
       "4.097751516906816"
      ]
     },
     "execution_count": 17,
     "metadata": {},
     "output_type": "execute_result"
    }
   ],
   "source": [
    "dollar_duration = 5 * (1000 * np.exp(-0.04 * 5) / 999)\n",
    "dollar_duration"
   ]
  },
  {
   "cell_type": "code",
   "execution_count": 19,
   "id": "1a46fd2c",
   "metadata": {},
   "outputs": [
    {
     "data": {
      "text/plain": [
       "43.0"
      ]
     },
     "execution_count": 19,
     "metadata": {},
     "output_type": "execute_result"
    }
   ],
   "source": [
    "1000 * 4.30 * 0.01"
   ]
  },
  {
   "cell_type": "markdown",
   "id": "d77ab689",
   "metadata": {},
   "source": [
    "## Cumulative Hazard"
   ]
  },
  {
   "attachments": {
    "image.png": {
     "image/png": "[encoded data removed]"
    }
   },
   "cell_type": "markdown",
   "id": "d3a13fb7",
   "metadata": {},
   "source": [
    "![image.png](attachment:image.png)"
   ]
  },
  {
   "cell_type": "code",
   "execution_count": 30,
   "id": "c516ed9e",
   "metadata": {},
   "outputs": [
    {
     "data": {
      "text/plain": [
       "0.006"
      ]
     },
     "execution_count": 30,
     "metadata": {},
     "output_type": "execute_result"
    }
   ],
   "source": [
    "expected_loss = 0.65\n",
    "yield_spread = 0.0060 # 60 Basis Points\n",
    "yield_spread"
   ]
  },
  {
   "cell_type": "code",
   "execution_count": 31,
   "id": "5b193796",
   "metadata": {},
   "outputs": [
    {
     "data": {
      "text/plain": [
       "0.00923076923076923"
      ]
     },
     "execution_count": 31,
     "metadata": {},
     "output_type": "execute_result"
    }
   ],
   "source": [
    "L = yield_spread / (expected_loss)\n",
    "L"
   ]
  },
  {
   "cell_type": "markdown",
   "id": "32402f5c",
   "metadata": {},
   "source": [
    "## Corporate Bonds"
   ]
  },
  {
   "attachments": {
    "image.png": {
     "image/png": "[encoded data removed]"
    }
   },
   "cell_type": "markdown",
   "id": "e2a8f171",
   "metadata": {},
   "source": [
    "![image.png](attachment:image.png)"
   ]
  },
  {
   "cell_type": "code",
   "execution_count": 21,
   "id": "9949f69a",
   "metadata": {},
   "outputs": [],
   "source": [
    "corporate = 0.08\n",
    "risk_free = 0.06\n",
    "recovery_rate = 0.40\n",
    "yield_spread = 0.02 "
   ]
  },
  {
   "cell_type": "code",
   "execution_count": 23,
   "id": "202d4b65",
   "metadata": {},
   "outputs": [
    {
     "data": {
      "text/plain": [
       "0.03333333333333333"
      ]
     },
     "execution_count": 23,
     "metadata": {},
     "output_type": "execute_result"
    }
   ],
   "source": [
    "L = yield_spread / (1 - recovery_rate)\n",
    "L"
   ]
  },
  {
   "cell_type": "code",
   "execution_count": 24,
   "id": "f74c096d",
   "metadata": {},
   "outputs": [
    {
     "data": {
      "text/plain": [
       "0.0011111111111111111"
      ]
     },
     "execution_count": 24,
     "metadata": {},
     "output_type": "execute_result"
    }
   ],
   "source": [
    "L**2"
   ]
  },
  {
   "cell_type": "markdown",
   "id": "128d4c4f",
   "metadata": {},
   "source": [
    "## Semi Annual Rating Matrix"
   ]
  },
  {
   "cell_type": "markdown",
   "id": "c8a11928",
   "metadata": {},
   "source": [
    "### A. Calculate the 7 Month Transition Matrix"
   ]
  },
  {
   "cell_type": "code",
   "execution_count": 6,
   "id": "95b71051",
   "metadata": {},
   "outputs": [
    {
     "name": "stdout",
     "output_type": "stream",
     "text": [
      "[1. 1. 1. 1. 1. 1. 1. 1.]\n"
     ]
    },
    {
     "data": {
      "text/html": [
       "<div>\n",
       "<style scoped>\n",
       "    .dataframe tbody tr th:only-of-type {\n",
       "        vertical-align: middle;\n",
       "    }\n",
       "\n",
       "    .dataframe tbody tr th {\n",
       "        vertical-align: top;\n",
       "    }\n",
       "\n",
       "    .dataframe thead th {\n",
       "        text-align: right;\n",
       "    }\n",
       "</style>\n",
       "<table border=\"1\" class=\"dataframe\">\n",
       "  <thead>\n",
       "    <tr style=\"text-align: right;\">\n",
       "      <th></th>\n",
       "      <th>AAA</th>\n",
       "      <th>AA</th>\n",
       "      <th>A</th>\n",
       "      <th>BBB</th>\n",
       "      <th>BB</th>\n",
       "      <th>B</th>\n",
       "      <th>CCC</th>\n",
       "      <th>default</th>\n",
       "    </tr>\n",
       "  </thead>\n",
       "  <tbody>\n",
       "    <tr>\n",
       "      <th>AAA</th>\n",
       "      <td>0.9081</td>\n",
       "      <td>0.0833</td>\n",
       "      <td>0.0068</td>\n",
       "      <td>0.0006</td>\n",
       "      <td>0.0012</td>\n",
       "      <td>0.0000</td>\n",
       "      <td>0.0000</td>\n",
       "      <td>0.0000</td>\n",
       "    </tr>\n",
       "    <tr>\n",
       "      <th>AA</th>\n",
       "      <td>0.0070</td>\n",
       "      <td>0.9065</td>\n",
       "      <td>0.0779</td>\n",
       "      <td>0.0064</td>\n",
       "      <td>0.0006</td>\n",
       "      <td>0.0014</td>\n",
       "      <td>0.0002</td>\n",
       "      <td>0.0000</td>\n",
       "    </tr>\n",
       "    <tr>\n",
       "      <th>A</th>\n",
       "      <td>0.0009</td>\n",
       "      <td>0.0227</td>\n",
       "      <td>0.9105</td>\n",
       "      <td>0.0552</td>\n",
       "      <td>0.0074</td>\n",
       "      <td>0.0026</td>\n",
       "      <td>0.0001</td>\n",
       "      <td>0.0006</td>\n",
       "    </tr>\n",
       "    <tr>\n",
       "      <th>BBB</th>\n",
       "      <td>0.0002</td>\n",
       "      <td>0.0033</td>\n",
       "      <td>0.0595</td>\n",
       "      <td>0.8693</td>\n",
       "      <td>0.0530</td>\n",
       "      <td>0.0117</td>\n",
       "      <td>0.0012</td>\n",
       "      <td>0.0018</td>\n",
       "    </tr>\n",
       "    <tr>\n",
       "      <th>BB</th>\n",
       "      <td>0.0003</td>\n",
       "      <td>0.0014</td>\n",
       "      <td>0.0067</td>\n",
       "      <td>0.0773</td>\n",
       "      <td>0.8053</td>\n",
       "      <td>0.0884</td>\n",
       "      <td>0.0100</td>\n",
       "      <td>0.0106</td>\n",
       "    </tr>\n",
       "    <tr>\n",
       "      <th>B</th>\n",
       "      <td>0.0000</td>\n",
       "      <td>0.0011</td>\n",
       "      <td>0.0024</td>\n",
       "      <td>0.0043</td>\n",
       "      <td>0.0648</td>\n",
       "      <td>0.8346</td>\n",
       "      <td>0.0407</td>\n",
       "      <td>0.0521</td>\n",
       "    </tr>\n",
       "    <tr>\n",
       "      <th>CCC</th>\n",
       "      <td>0.0022</td>\n",
       "      <td>0.0000</td>\n",
       "      <td>0.0022</td>\n",
       "      <td>0.0130</td>\n",
       "      <td>0.0238</td>\n",
       "      <td>0.1124</td>\n",
       "      <td>0.6486</td>\n",
       "      <td>0.1978</td>\n",
       "    </tr>\n",
       "    <tr>\n",
       "      <th>default</th>\n",
       "      <td>0.0000</td>\n",
       "      <td>0.0000</td>\n",
       "      <td>0.0000</td>\n",
       "      <td>0.0000</td>\n",
       "      <td>0.0000</td>\n",
       "      <td>0.0000</td>\n",
       "      <td>0.0000</td>\n",
       "      <td>1.0000</td>\n",
       "    </tr>\n",
       "  </tbody>\n",
       "</table>\n",
       "</div>"
      ],
      "text/plain": [
       "            AAA      AA       A     BBB      BB       B     CCC  default\n",
       "AAA      0.9081  0.0833  0.0068  0.0006  0.0012  0.0000  0.0000   0.0000\n",
       "AA       0.0070  0.9065  0.0779  0.0064  0.0006  0.0014  0.0002   0.0000\n",
       "A        0.0009  0.0227  0.9105  0.0552  0.0074  0.0026  0.0001   0.0006\n",
       "BBB      0.0002  0.0033  0.0595  0.8693  0.0530  0.0117  0.0012   0.0018\n",
       "BB       0.0003  0.0014  0.0067  0.0773  0.8053  0.0884  0.0100   0.0106\n",
       "B        0.0000  0.0011  0.0024  0.0043  0.0648  0.8346  0.0407   0.0521\n",
       "CCC      0.0022  0.0000  0.0022  0.0130  0.0238  0.1124  0.6486   0.1978\n",
       "default  0.0000  0.0000  0.0000  0.0000  0.0000  0.0000  0.0000   1.0000"
      ]
     },
     "metadata": {},
     "output_type": "display_data"
    }
   ],
   "source": [
    "ratings = ['AAA','AA','A','BBB','BB','B','CCC','default']\n",
    "transition= np.array([\n",
    "    [90.81, 8.33, 0.68,0.06, 0.12, 0,0,0],\n",
    "    [0.70,90.65,7.79,0.64,0.06,0.14,0.02,0],\n",
    "    [0.09,2.27,91.05,5.52,0.74,0.26,0.01,0.06],\n",
    "    [0.02,0.33,5.95,86.93,5.30,1.17,0.12,0.18],\n",
    "    [0.03,0.14,0.67,7.73,80.53,8.84,1.00,1.06],\n",
    "    [0,0.11,0.24,0.43,6.48,83.46,4.07,5.21],\n",
    "    [0.22,0,0.22,1.30,2.38,11.24,64.86,19.78],\n",
    "    [0,0,0,0,0,0,0,100]\n",
    "]) / 100\n",
    "\n",
    "print(sum(transition.transpose()))\n",
    "transition_df = pd.DataFrame(transition, columns=ratings, index=ratings)\n",
    "display(transition_df)"
   ]
  },
  {
   "cell_type": "code",
   "execution_count": 7,
   "id": "0384e287",
   "metadata": {},
   "outputs": [],
   "source": [
    "from scipy.optimize import minimize\n",
    "\n",
    "class split_transition_matrix():\n",
    "    \"\"\"compute the fractional transition matrix\n",
    "    input the transition matrix, \n",
    "    the number of period into which the matrix is divded, \n",
    "    the function to minimize (usually least squares fit)\n",
    "    \"\"\"\n",
    "    def __init__(self, transition_matrix, periods, fcn):\n",
    "        self.m = transition_matrix\n",
    "        self.p = periods\n",
    "        self.t_vector = self.m.ravel()\n",
    "        self.fcn = fcn\n",
    "\n",
    "    def cumulate_matrix(self):\n",
    "        self.t = np.reshape(self.t_vector, self.m.shape)\n",
    "        self.t_cume = cumulate_transitions(self.t, self.p)\n",
    "\n",
    "    def matrix_diff2(self, a, b):\n",
    "        return sum(((a - b)*(a - b)).ravel())\n",
    "\n",
    "    def matrix_vs_cume_diff2(self):\n",
    "        self.cumulate_matrix()\n",
    "        return self.matrix_diff2(self.m, self.t_cume)\n",
    "\n",
    "    def matrix_min(self, t_vector):\n",
    "        self.t_vector = self.fcn(t_vector)\n",
    "        return self.matrix_vs_cume_diff2()\n",
    "    \n",
    "    def minimize(self):\n",
    "        \"\"\"\n",
    "        compute the fractional multiple of the matrix by\n",
    "        \n",
    "        \"\"\"\n",
    "        self.res = minimize(self.matrix_min, self.m, method='Powell',tol=1e-10, options={'maxiter':100000})\n",
    "        return self.res\n",
    "        \n",
    "    def get_sub_matrix(self):\n",
    "        return np.reshape(self.fcn(self.res.x), self.m.shape)  \n",
    "    \n",
    "    def cumulate_sub_matrix(self):\n",
    "        return pd.DataFrame(cumulate_transitions(self.get_sub_matrix(), self.p), index=ratings, columns=ratings)\n",
    "\n",
    "def cumulate_transitions(t, p):\n",
    "    \"\"\"multiply the transition matrix p-times\"\"\"\n",
    "    t_cume = t.copy()\n",
    "    for i in range(p - 1):\n",
    "        t_cume = t_cume.dot(t)\n",
    "    return t_cume\n",
    "\n",
    "def split_matrix(transition, ratings, periods, fcn):\n",
    "    \"\"\"create fractional matrix and display matrix and its fit to the original\"\"\"\n",
    "    t_period = split_transition_matrix(transition, periods, fcn)\n",
    "    res = t_period.minimize()\n",
    "    print ('=' * 80)\n",
    "    print(\"periods = \", t_period.p, \"success = \", res.success, \"function value = \",res.fun, 'message = ', res.message)\n",
    "    display(pd.DataFrame(t_period.get_sub_matrix(), index=ratings, columns=ratings).round(5))\n",
    "    cumulative_matrix = t_period.cumulate_sub_matrix()\n",
    "    print(\"cumulative transition matrix\")\n",
    "    display(cumulative_matrix.round(5))\n",
    "    print(\"deviation of cumulative from original transition matrix\")\n",
    "    display((t_period.m - cumulative_matrix).round(5))\n",
    "\n",
    "    return t_period"
   ]
  },
  {
   "cell_type": "code",
   "execution_count": 8,
   "id": "dc8936da",
   "metadata": {},
   "outputs": [
    {
     "name": "stderr",
     "output_type": "stream",
     "text": [
      "C:\\Users\\steve\\AppData\\Local\\Temp\\ipykernel_1268\\2661492707.py:35: DeprecationWarning: Use of `minimize` with `x0.ndim != 1` is deprecated. Currently, singleton dimensions will be removed from `x0`, but an error will be raised in SciPy 1.11.0.\n",
      "  self.res = minimize(self.matrix_min, self.m, method='Powell',tol=1e-10, options={'maxiter':100000})\n"
     ]
    },
    {
     "name": "stdout",
     "output_type": "stream",
     "text": [
      "================================================================================\n",
      "periods =  7 success =  True function value =  6.465190755216095e-08 message =  Optimization terminated successfully.\n"
     ]
    },
    {
     "data": {
      "text/html": [
       "<div>\n",
       "<style scoped>\n",
       "    .dataframe tbody tr th:only-of-type {\n",
       "        vertical-align: middle;\n",
       "    }\n",
       "\n",
       "    .dataframe tbody tr th {\n",
       "        vertical-align: top;\n",
       "    }\n",
       "\n",
       "    .dataframe thead th {\n",
       "        text-align: right;\n",
       "    }\n",
       "</style>\n",
       "<table border=\"1\" class=\"dataframe\">\n",
       "  <thead>\n",
       "    <tr style=\"text-align: right;\">\n",
       "      <th></th>\n",
       "      <th>AAA</th>\n",
       "      <th>AA</th>\n",
       "      <th>A</th>\n",
       "      <th>BBB</th>\n",
       "      <th>BB</th>\n",
       "      <th>B</th>\n",
       "      <th>CCC</th>\n",
       "      <th>default</th>\n",
       "    </tr>\n",
       "  </thead>\n",
       "  <tbody>\n",
       "    <tr>\n",
       "      <th>AAA</th>\n",
       "      <td>0.98628</td>\n",
       "      <td>0.01293</td>\n",
       "      <td>0.00058</td>\n",
       "      <td>0.00004</td>\n",
       "      <td>0.00019</td>\n",
       "      <td>0.00000</td>\n",
       "      <td>0.00000</td>\n",
       "      <td>0.00000</td>\n",
       "    </tr>\n",
       "    <tr>\n",
       "      <th>AA</th>\n",
       "      <td>0.00108</td>\n",
       "      <td>0.98590</td>\n",
       "      <td>0.01207</td>\n",
       "      <td>0.00069</td>\n",
       "      <td>0.00003</td>\n",
       "      <td>0.00020</td>\n",
       "      <td>0.00003</td>\n",
       "      <td>0.00000</td>\n",
       "    </tr>\n",
       "    <tr>\n",
       "      <th>A</th>\n",
       "      <td>0.00013</td>\n",
       "      <td>0.00351</td>\n",
       "      <td>0.98632</td>\n",
       "      <td>0.00869</td>\n",
       "      <td>0.00096</td>\n",
       "      <td>0.00033</td>\n",
       "      <td>0.00000</td>\n",
       "      <td>0.00007</td>\n",
       "    </tr>\n",
       "    <tr>\n",
       "      <th>BBB</th>\n",
       "      <td>0.00003</td>\n",
       "      <td>0.00041</td>\n",
       "      <td>0.00938</td>\n",
       "      <td>0.97959</td>\n",
       "      <td>0.00876</td>\n",
       "      <td>0.00151</td>\n",
       "      <td>0.00013</td>\n",
       "      <td>0.00019</td>\n",
       "    </tr>\n",
       "    <tr>\n",
       "      <th>BB</th>\n",
       "      <td>0.00004</td>\n",
       "      <td>0.00019</td>\n",
       "      <td>0.00070</td>\n",
       "      <td>0.01286</td>\n",
       "      <td>0.96865</td>\n",
       "      <td>0.01487</td>\n",
       "      <td>0.00152</td>\n",
       "      <td>0.00117</td>\n",
       "    </tr>\n",
       "    <tr>\n",
       "      <th>B</th>\n",
       "      <td>0.00000</td>\n",
       "      <td>0.00016</td>\n",
       "      <td>0.00034</td>\n",
       "      <td>0.00022</td>\n",
       "      <td>0.01092</td>\n",
       "      <td>0.97355</td>\n",
       "      <td>0.00751</td>\n",
       "      <td>0.00730</td>\n",
       "    </tr>\n",
       "    <tr>\n",
       "      <th>CCC</th>\n",
       "      <td>0.00039</td>\n",
       "      <td>0.00000</td>\n",
       "      <td>0.00029</td>\n",
       "      <td>0.00218</td>\n",
       "      <td>0.00369</td>\n",
       "      <td>0.02071</td>\n",
       "      <td>0.93947</td>\n",
       "      <td>0.03330</td>\n",
       "    </tr>\n",
       "    <tr>\n",
       "      <th>default</th>\n",
       "      <td>0.00000</td>\n",
       "      <td>0.00000</td>\n",
       "      <td>0.00000</td>\n",
       "      <td>0.00000</td>\n",
       "      <td>0.00000</td>\n",
       "      <td>0.00000</td>\n",
       "      <td>0.00000</td>\n",
       "      <td>1.00000</td>\n",
       "    </tr>\n",
       "  </tbody>\n",
       "</table>\n",
       "</div>"
      ],
      "text/plain": [
       "             AAA       AA        A      BBB       BB        B      CCC  \\\n",
       "AAA      0.98628  0.01293  0.00058  0.00004  0.00019  0.00000  0.00000   \n",
       "AA       0.00108  0.98590  0.01207  0.00069  0.00003  0.00020  0.00003   \n",
       "A        0.00013  0.00351  0.98632  0.00869  0.00096  0.00033  0.00000   \n",
       "BBB      0.00003  0.00041  0.00938  0.97959  0.00876  0.00151  0.00013   \n",
       "BB       0.00004  0.00019  0.00070  0.01286  0.96865  0.01487  0.00152   \n",
       "B        0.00000  0.00016  0.00034  0.00022  0.01092  0.97355  0.00751   \n",
       "CCC      0.00039  0.00000  0.00029  0.00218  0.00369  0.02071  0.93947   \n",
       "default  0.00000  0.00000  0.00000  0.00000  0.00000  0.00000  0.00000   \n",
       "\n",
       "         default  \n",
       "AAA      0.00000  \n",
       "AA       0.00000  \n",
       "A        0.00007  \n",
       "BBB      0.00019  \n",
       "BB       0.00117  \n",
       "B        0.00730  \n",
       "CCC      0.03330  \n",
       "default  1.00000  "
      ]
     },
     "metadata": {},
     "output_type": "display_data"
    },
    {
     "name": "stdout",
     "output_type": "stream",
     "text": [
      "cumulative transition matrix\n"
     ]
    },
    {
     "data": {
      "text/html": [
       "<div>\n",
       "<style scoped>\n",
       "    .dataframe tbody tr th:only-of-type {\n",
       "        vertical-align: middle;\n",
       "    }\n",
       "\n",
       "    .dataframe tbody tr th {\n",
       "        vertical-align: top;\n",
       "    }\n",
       "\n",
       "    .dataframe thead th {\n",
       "        text-align: right;\n",
       "    }\n",
       "</style>\n",
       "<table border=\"1\" class=\"dataframe\">\n",
       "  <thead>\n",
       "    <tr style=\"text-align: right;\">\n",
       "      <th></th>\n",
       "      <th>AAA</th>\n",
       "      <th>AA</th>\n",
       "      <th>A</th>\n",
       "      <th>BBB</th>\n",
       "      <th>BB</th>\n",
       "      <th>B</th>\n",
       "      <th>CCC</th>\n",
       "      <th>default</th>\n",
       "    </tr>\n",
       "  </thead>\n",
       "  <tbody>\n",
       "    <tr>\n",
       "      <th>AAA</th>\n",
       "      <td>0.90810</td>\n",
       "      <td>0.08330</td>\n",
       "      <td>0.0068</td>\n",
       "      <td>0.0006</td>\n",
       "      <td>0.00119</td>\n",
       "      <td>0.00011</td>\n",
       "      <td>0.00001</td>\n",
       "      <td>0.00001</td>\n",
       "    </tr>\n",
       "    <tr>\n",
       "      <th>AA</th>\n",
       "      <td>0.00700</td>\n",
       "      <td>0.90650</td>\n",
       "      <td>0.0779</td>\n",
       "      <td>0.0064</td>\n",
       "      <td>0.00060</td>\n",
       "      <td>0.00139</td>\n",
       "      <td>0.00019</td>\n",
       "      <td>0.00007</td>\n",
       "    </tr>\n",
       "    <tr>\n",
       "      <th>A</th>\n",
       "      <td>0.00090</td>\n",
       "      <td>0.02270</td>\n",
       "      <td>0.9105</td>\n",
       "      <td>0.0552</td>\n",
       "      <td>0.00740</td>\n",
       "      <td>0.00260</td>\n",
       "      <td>0.00010</td>\n",
       "      <td>0.00060</td>\n",
       "    </tr>\n",
       "    <tr>\n",
       "      <th>BBB</th>\n",
       "      <td>0.00020</td>\n",
       "      <td>0.00330</td>\n",
       "      <td>0.0595</td>\n",
       "      <td>0.8693</td>\n",
       "      <td>0.05300</td>\n",
       "      <td>0.01170</td>\n",
       "      <td>0.00120</td>\n",
       "      <td>0.00180</td>\n",
       "    </tr>\n",
       "    <tr>\n",
       "      <th>BB</th>\n",
       "      <td>0.00030</td>\n",
       "      <td>0.00140</td>\n",
       "      <td>0.0067</td>\n",
       "      <td>0.0773</td>\n",
       "      <td>0.80530</td>\n",
       "      <td>0.08840</td>\n",
       "      <td>0.01000</td>\n",
       "      <td>0.01060</td>\n",
       "    </tr>\n",
       "    <tr>\n",
       "      <th>B</th>\n",
       "      <td>0.00007</td>\n",
       "      <td>0.00109</td>\n",
       "      <td>0.0024</td>\n",
       "      <td>0.0043</td>\n",
       "      <td>0.06480</td>\n",
       "      <td>0.83460</td>\n",
       "      <td>0.04070</td>\n",
       "      <td>0.05210</td>\n",
       "    </tr>\n",
       "    <tr>\n",
       "      <th>CCC</th>\n",
       "      <td>0.00219</td>\n",
       "      <td>0.00020</td>\n",
       "      <td>0.0022</td>\n",
       "      <td>0.0130</td>\n",
       "      <td>0.02380</td>\n",
       "      <td>0.11240</td>\n",
       "      <td>0.64860</td>\n",
       "      <td>0.19780</td>\n",
       "    </tr>\n",
       "    <tr>\n",
       "      <th>default</th>\n",
       "      <td>0.00000</td>\n",
       "      <td>0.00000</td>\n",
       "      <td>0.0000</td>\n",
       "      <td>0.0000</td>\n",
       "      <td>0.00000</td>\n",
       "      <td>0.00000</td>\n",
       "      <td>0.00000</td>\n",
       "      <td>1.00000</td>\n",
       "    </tr>\n",
       "  </tbody>\n",
       "</table>\n",
       "</div>"
      ],
      "text/plain": [
       "             AAA       AA       A     BBB       BB        B      CCC  default\n",
       "AAA      0.90810  0.08330  0.0068  0.0006  0.00119  0.00011  0.00001  0.00001\n",
       "AA       0.00700  0.90650  0.0779  0.0064  0.00060  0.00139  0.00019  0.00007\n",
       "A        0.00090  0.02270  0.9105  0.0552  0.00740  0.00260  0.00010  0.00060\n",
       "BBB      0.00020  0.00330  0.0595  0.8693  0.05300  0.01170  0.00120  0.00180\n",
       "BB       0.00030  0.00140  0.0067  0.0773  0.80530  0.08840  0.01000  0.01060\n",
       "B        0.00007  0.00109  0.0024  0.0043  0.06480  0.83460  0.04070  0.05210\n",
       "CCC      0.00219  0.00020  0.0022  0.0130  0.02380  0.11240  0.64860  0.19780\n",
       "default  0.00000  0.00000  0.0000  0.0000  0.00000  0.00000  0.00000  1.00000"
      ]
     },
     "metadata": {},
     "output_type": "display_data"
    },
    {
     "name": "stdout",
     "output_type": "stream",
     "text": [
      "deviation of cumulative from original transition matrix\n"
     ]
    },
    {
     "data": {
      "text/html": [
       "<div>\n",
       "<style scoped>\n",
       "    .dataframe tbody tr th:only-of-type {\n",
       "        vertical-align: middle;\n",
       "    }\n",
       "\n",
       "    .dataframe tbody tr th {\n",
       "        vertical-align: top;\n",
       "    }\n",
       "\n",
       "    .dataframe thead th {\n",
       "        text-align: right;\n",
       "    }\n",
       "</style>\n",
       "<table border=\"1\" class=\"dataframe\">\n",
       "  <thead>\n",
       "    <tr style=\"text-align: right;\">\n",
       "      <th></th>\n",
       "      <th>AAA</th>\n",
       "      <th>AA</th>\n",
       "      <th>A</th>\n",
       "      <th>BBB</th>\n",
       "      <th>BB</th>\n",
       "      <th>B</th>\n",
       "      <th>CCC</th>\n",
       "      <th>default</th>\n",
       "    </tr>\n",
       "  </thead>\n",
       "  <tbody>\n",
       "    <tr>\n",
       "      <th>AAA</th>\n",
       "      <td>-0.00000</td>\n",
       "      <td>0.00000</td>\n",
       "      <td>0.0</td>\n",
       "      <td>0.0</td>\n",
       "      <td>0.00001</td>\n",
       "      <td>-0.00011</td>\n",
       "      <td>-0.00001</td>\n",
       "      <td>-0.00001</td>\n",
       "    </tr>\n",
       "    <tr>\n",
       "      <th>AA</th>\n",
       "      <td>0.00000</td>\n",
       "      <td>-0.00000</td>\n",
       "      <td>0.0</td>\n",
       "      <td>0.0</td>\n",
       "      <td>-0.00000</td>\n",
       "      <td>0.00001</td>\n",
       "      <td>0.00001</td>\n",
       "      <td>-0.00007</td>\n",
       "    </tr>\n",
       "    <tr>\n",
       "      <th>A</th>\n",
       "      <td>0.00000</td>\n",
       "      <td>0.00000</td>\n",
       "      <td>-0.0</td>\n",
       "      <td>-0.0</td>\n",
       "      <td>-0.00000</td>\n",
       "      <td>0.00000</td>\n",
       "      <td>-0.00000</td>\n",
       "      <td>0.00000</td>\n",
       "    </tr>\n",
       "    <tr>\n",
       "      <th>BBB</th>\n",
       "      <td>-0.00000</td>\n",
       "      <td>0.00000</td>\n",
       "      <td>-0.0</td>\n",
       "      <td>-0.0</td>\n",
       "      <td>-0.00000</td>\n",
       "      <td>-0.00000</td>\n",
       "      <td>0.00000</td>\n",
       "      <td>0.00000</td>\n",
       "    </tr>\n",
       "    <tr>\n",
       "      <th>BB</th>\n",
       "      <td>0.00000</td>\n",
       "      <td>0.00000</td>\n",
       "      <td>-0.0</td>\n",
       "      <td>-0.0</td>\n",
       "      <td>-0.00000</td>\n",
       "      <td>0.00000</td>\n",
       "      <td>0.00000</td>\n",
       "      <td>0.00000</td>\n",
       "    </tr>\n",
       "    <tr>\n",
       "      <th>B</th>\n",
       "      <td>-0.00007</td>\n",
       "      <td>0.00001</td>\n",
       "      <td>-0.0</td>\n",
       "      <td>-0.0</td>\n",
       "      <td>-0.00000</td>\n",
       "      <td>-0.00000</td>\n",
       "      <td>0.00000</td>\n",
       "      <td>0.00000</td>\n",
       "    </tr>\n",
       "    <tr>\n",
       "      <th>CCC</th>\n",
       "      <td>0.00001</td>\n",
       "      <td>-0.00020</td>\n",
       "      <td>0.0</td>\n",
       "      <td>0.0</td>\n",
       "      <td>0.00000</td>\n",
       "      <td>0.00000</td>\n",
       "      <td>-0.00000</td>\n",
       "      <td>0.00000</td>\n",
       "    </tr>\n",
       "    <tr>\n",
       "      <th>default</th>\n",
       "      <td>-0.00000</td>\n",
       "      <td>-0.00000</td>\n",
       "      <td>-0.0</td>\n",
       "      <td>-0.0</td>\n",
       "      <td>-0.00000</td>\n",
       "      <td>-0.00000</td>\n",
       "      <td>-0.00000</td>\n",
       "      <td>-0.00000</td>\n",
       "    </tr>\n",
       "  </tbody>\n",
       "</table>\n",
       "</div>"
      ],
      "text/plain": [
       "             AAA       AA    A  BBB       BB        B      CCC  default\n",
       "AAA     -0.00000  0.00000  0.0  0.0  0.00001 -0.00011 -0.00001 -0.00001\n",
       "AA       0.00000 -0.00000  0.0  0.0 -0.00000  0.00001  0.00001 -0.00007\n",
       "A        0.00000  0.00000 -0.0 -0.0 -0.00000  0.00000 -0.00000  0.00000\n",
       "BBB     -0.00000  0.00000 -0.0 -0.0 -0.00000 -0.00000  0.00000  0.00000\n",
       "BB       0.00000  0.00000 -0.0 -0.0 -0.00000  0.00000  0.00000  0.00000\n",
       "B       -0.00007  0.00001 -0.0 -0.0 -0.00000 -0.00000  0.00000  0.00000\n",
       "CCC      0.00001 -0.00020  0.0  0.0  0.00000  0.00000 -0.00000  0.00000\n",
       "default -0.00000 -0.00000 -0.0 -0.0 -0.00000 -0.00000 -0.00000 -0.00000"
      ]
     },
     "metadata": {},
     "output_type": "display_data"
    }
   ],
   "source": [
    "def fcn2(x):\n",
    "    \"\"\"minimize the sum of squared values\"\"\"\n",
    "    return pow(x, 2)\n",
    "\n",
    "seven_month = split_matrix(transition, ratings, 7, fcn2)  # monthly"
   ]
  },
  {
   "cell_type": "markdown",
   "id": "770d4cc9",
   "metadata": {},
   "source": [
    "### B. Give a step by step process by which you would verify the five month and seven month transtion matrix are consitent with each other. "
   ]
  },
  {
   "cell_type": "markdown",
   "id": "1bcec4ac",
   "metadata": {},
   "source": [
    "#### In order to verify that two transiton matricies are consistent with each other I would compute both given the numerical routines from above. I would then compare the probabilites of default. The five month transition matrix should have smaller probabilites of downgrades and defaults because there is a lesser time horizon. The seven month transition matrix should have larger probabilities of downgrades and defaults because there is a greater time horizon. If this does not check out then the matricies are not consistent with each other. "
   ]
  },
  {
   "cell_type": "markdown",
   "id": "cd3f6a3f",
   "metadata": {},
   "source": [
    "### C. What is the steady state distribution of ratings? "
   ]
  },
  {
   "cell_type": "markdown",
   "id": "2df9bf6d",
   "metadata": {},
   "source": [
    "#### The steady state is a transition state model that differentiates between the usual and extreme environments. The usual distribution will have smaller probabilites of downgrades and defaults compared to the extreme distribution. "
   ]
  },
  {
   "cell_type": "code",
   "execution_count": null,
   "id": "e6edc140",
   "metadata": {},
   "outputs": [],
   "source": []
  }
 ],
 "metadata": {
  "kernelspec": {
   "display_name": "Python 3 (ipykernel)",
   "language": "python",
   "name": "python3"
  },
  "language_info": {
   "codemirror_mode": {
    "name": "ipython",
    "version": 3
   },
   "file_extension": ".py",
   "mimetype": "text/x-python",
   "name": "python",
   "nbconvert_exporter": "python",
   "pygments_lexer": "ipython3",
   "version": "3.10.7"
  }
 },
 "nbformat": 4,
 "nbformat_minor": 5
}
